{
 "cells": [
  {
   "cell_type": "code",
   "execution_count": 3,
   "metadata": {},
   "outputs": [],
   "source": [
    "import os\n",
    "import subprocess\n",
    "from os.path import join as pjoin\n",
    "from tqdm import tqdm\n",
    "\n",
    "#%%\n",
    "ncpu = 18\n",
    "#sub_id = input('Sub ID(split by space):')\n",
    "#start = input('Start index:')\n",
    "#end = input('End index:')\n",
    "\n",
    "# %%\n",
    "\n",
    "# input path includes all subject folds\n",
    "input_path = '/nfs/t2/raven/data/bold/derivatives/fmriprep/'\n",
    "\n",
    "# flags for selection\n",
    "#sub_flag = ['sub-'+x for x in sub_id.split(' ')]\n",
    "sub_flag = ['sub-01','sub-02','sub-03','sub-04','sub-05','sub-06','sub-07','sub-08','sub-09','sub-10',\n",
    "            'sub-11','sub-12','sub-13','sub-14','sub-15','sub-16','sub-17','sub-18','sub-19','sub-20',\n",
    "            'sub-21','sub-22','sub-23','sub-24','sub-25','sub-26','sub-27','sub-28','sub-29','sub-30']\n",
    "ses_flag = ['ses-']\n",
    "mod_flag = ['func']\n",
    "file_flag = ['space-T1w_desc-preproc_bold.nii.gz']\n",
    "\n",
    "# initialize func_files\n",
    "func_files = []\n",
    "\n",
    "# generate all run files\n",
    "subject_folds = [ _ for _ in os.listdir(input_path) if any([ __ in _ for __ in \\\n",
    "                 sub_flag]) and ('.' not in _)]\n",
    "for subject in subject_folds:\n",
    "    session_folds = [ _ for _ in os.listdir(pjoin(input_path, subject)) \\\n",
    "                     if any([ __ in _ for __ in ses_flag]) and ('.' not in _)]\n",
    "    for session in session_folds:\n",
    "        modality_folds = [ _ for _ in os.listdir(pjoin(input_path, subject, session)) \\\n",
    "                     if any([ __ in _ for __ in mod_flag]) and ('.' not in _)]\n",
    "        for modality in modality_folds:\n",
    "            current_files = [ _ for _ in os.listdir(pjoin(input_path, subject, session, modality)) \\\n",
    "                     if all([ __ in _ for __ in file_flag])]\n",
    "            func_files.extend([pjoin(input_path,subject,session,modality,file) for file in \\\n",
    "                  current_files])\n",
    "\n",
    "#retino_func_files = [_ for _ in func_files if 'retinotopy' in _]\n",
    "#other_func_files = list(set(func_files) - set(retino_func_files))"
   ]
  },
  {
   "cell_type": "code",
   "execution_count": 6,
   "metadata": {},
   "outputs": [],
   "source": [
    "#%% run cml\n",
    "cmd_pre = f'ciftify_subject_fmri --surf-reg MSMSulc --n_cpus 8 --ciftify-work-dir /nfs/t2/raven/data/bold/derivatives/ciftify_1x3'\n",
    "count = 0\n",
    "for func_file in func_files:\n",
    "    out_name = os.path.basename(func_file).split('_') \n",
    "    subject = [i for i in out_name if i.startswith('sub-')][0]\n",
    "    out_name = '_'.join([i for i in out_name\n",
    "                         if i.startswith('ses-') or i.startswith('task-') or i.startswith('run-')])\n",
    "    cmd = cmd_pre + ' ' + ' '.join([func_file, subject, out_name])\n",
    "    #print(cmd)\n",
    "    subprocess.call(cmd, shell=True)"
   ]
  },
  {
   "cell_type": "code",
   "execution_count": null,
   "metadata": {},
   "outputs": [],
   "source": []
  }
 ],
 "metadata": {
  "kernelspec": {
   "display_name": "base",
   "language": "python",
   "name": "python3"
  },
  "language_info": {
   "codemirror_mode": {
    "name": "ipython",
    "version": 3
   },
   "file_extension": ".py",
   "mimetype": "text/x-python",
   "name": "python",
   "nbconvert_exporter": "python",
   "pygments_lexer": "ipython3",
   "version": "3.8.5"
  },
  "orig_nbformat": 4
 },
 "nbformat": 4,
 "nbformat_minor": 2
}
