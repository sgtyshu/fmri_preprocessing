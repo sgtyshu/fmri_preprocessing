{
 "cells": [
  {
   "cell_type": "code",
   "execution_count": 70,
   "metadata": {},
   "outputs": [],
   "source": [
    "import os\n",
    "import subprocess\n",
    "from os.path import join as pjoin\n",
    "import pandas as pd"
   ]
  },
  {
   "cell_type": "code",
   "execution_count": 71,
   "metadata": {},
   "outputs": [],
   "source": [
    "target_path = '/nfs/t2/raven/data/bold/dicom'\n",
    "dicom_filedir = os.listdir(target_path)\n",
    "dicom_filedir_sorted = sorted(dicom_filedir, key=lambda x: (x[:8], x[11], x[21:23]))"
   ]
  },
  {
   "cell_type": "code",
   "execution_count": 72,
   "metadata": {},
   "outputs": [],
   "source": [
    "subject = ['01','02','03','04','05',\n",
    "           '06','07','08','09','10',\n",
    "           '11','12','13','14','15',\n",
    "           '16','17','18','19','20',\n",
    "           '21','22','23','24','25',\n",
    "           '26','27','28','29','30']"
   ]
  },
  {
   "cell_type": "code",
   "execution_count": 73,
   "metadata": {},
   "outputs": [
    {
     "name": "stdout",
     "output_type": "stream",
     "text": [
      "finish with sub01\n",
      "finish with sub02\n",
      "finish with sub03\n",
      "finish with sub04\n",
      "finish with sub05\n",
      "finish with sub06\n",
      "finish with sub07\n",
      "finish with sub08\n",
      "finish with sub09\n",
      "finish with sub10\n",
      "finish with sub11\n",
      "finish with sub12\n",
      "finish with sub13\n",
      "finish with sub14\n",
      "finish with sub15\n",
      "finish with sub16\n",
      "finish with sub17\n",
      "finish with sub18\n",
      "finish with sub19\n",
      "finish with sub20\n",
      "finish with sub21\n",
      "finish with sub22\n",
      "finish with sub23\n",
      "finish with sub24\n",
      "finish with sub25\n",
      "finish with sub26\n",
      "finish with sub27\n",
      "finish with sub28\n",
      "finish with sub29\n",
      "finish with sub30\n"
     ]
    }
   ],
   "source": [
    "for i in range(30):\n",
    "    files = pjoin(target_path,dicom_filedir_sorted[i])\n",
    "    files = pjoin(files, '*.IMA')\n",
    "    output_dir = '/nfs/t2/raven/data/bold/nifti'\n",
    "    heuristic_dir = '/nfs/t2/raven/data/bold/nifti/code/raven/heuristic.py'\n",
    "    subject_index = subject[i]\n",
    "    session_name = 'raven'\n",
    "    command = ' '.join(['heudiconv',\n",
    "                        '--files',files,\n",
    "                        '-o',output_dir,\n",
    "                        '-f', heuristic_dir,\n",
    "                        '-s', subject_index,\n",
    "                        '-ss', session_name,\n",
    "                        '-c dcm2niix -b --overwrite'])\n",
    "    subprocess.run(command,shell=True)\n",
    "    print ('finish with sub{}'.format(subject_index))"
   ]
  }
 ],
 "metadata": {
  "kernelspec": {
   "display_name": "base",
   "language": "python",
   "name": "python3"
  },
  "language_info": {
   "codemirror_mode": {
    "name": "ipython",
    "version": 3
   },
   "file_extension": ".py",
   "mimetype": "text/x-python",
   "name": "python",
   "nbconvert_exporter": "python",
   "pygments_lexer": "ipython3",
   "version": "3.8.5"
  },
  "orig_nbformat": 4
 },
 "nbformat": 4,
 "nbformat_minor": 2
}
