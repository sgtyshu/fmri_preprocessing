{
 "cells": [
  {
   "cell_type": "code",
   "execution_count": 1,
   "metadata": {},
   "outputs": [
    {
     "name": "stdout",
     "output_type": "stream",
     "text": [
      "20230510_P04_ZHENZL_B210_HANYANGFAN.tar.gz downloaded successfully to /nfs/t2/raven/data/bold/orig/20230510_P04_ZHENZL_B210_HANYANGFAN.tar.gz\n",
      "20230510_P05_ZHENZL_B210_DENGZHENDONG.tar.gz downloaded successfully to /nfs/t2/raven/data/bold/orig/20230510_P05_ZHENZL_B210_DENGZHENDONG.tar.gz\n",
      "20230510_P06_ZHENZL_B210_LISIYUAN.tar.gz downloaded successfully to /nfs/t2/raven/data/bold/orig/20230510_P06_ZHENZL_B210_LISIYUAN.tar.gz\n",
      "20230510_P07_ZHENZL_B210_PENGFEIER.tar.gz downloaded successfully to /nfs/t2/raven/data/bold/orig/20230510_P07_ZHENZL_B210_PENGFEIER.tar.gz\n"
     ]
    },
    {
     "data": {
      "text/plain": [
       "'221 Goodbye.'"
      ]
     },
     "execution_count": 1,
     "metadata": {},
     "output_type": "execute_result"
    }
   ],
   "source": [
    "import ftplib\n",
    "import os\n",
    "\n",
    "ftp_host = \"210.31.71.4\"  # FTP服务器的IP地址或主机名\n",
    "ftp_user = \"zhen.zonglei\"  # FTP服务器的用户名\n",
    "ftp_password = \"Yb1EE2\"  # FTP服务器的密码\n",
    "remote_dir = \"/mri/ftphome/zhen.zonglei\"  # 远程目录\n",
    "local_dir = \"/nfs/t2/raven/data/bold/orig\"  # 下载文件的本地目录  \n",
    "# 指定的关键词\n",
    "keywords = ['20230510']\n",
    "\n",
    "ftp = ftplib.FTP(ftp_host)\n",
    "ftp.login(ftp_user, ftp_password)\n",
    "\n",
    "# 转到指定目录\n",
    "ftp.cwd(remote_dir)\n",
    "\n",
    "# 获取文件列表\n",
    "file_list = ftp.nlst()\n",
    "\n",
    "# 下载包含指定关键词的文件\n",
    "for file_name in file_list:\n",
    "    for keyword in keywords:\n",
    "        if keyword in file_name:\n",
    "            # 创建本地文件\n",
    "            local_file_path = os.path.join(local_dir, os.path.basename(file_name))\n",
    "            with open(local_file_path, \"wb\") as f:\n",
    "                # 以二进制模式写入文件\n",
    "                # 下载文件\n",
    "                ftp.retrbinary(f\"RETR {file_name}\", f.write)\n",
    "\n",
    "            print(f\"{file_name} downloaded successfully to {local_file_path}\")\n",
    "\n",
    "# 关闭FTP连接\n",
    "ftp.quit()"
   ]
  },
  {
   "cell_type": "code",
   "execution_count": 65,
   "metadata": {},
   "outputs": [
    {
     "data": {
      "text/plain": [
       "30"
      ]
     },
     "execution_count": 65,
     "metadata": {},
     "output_type": "execute_result"
    }
   ],
   "source": [
    "len(os.listdir('/nfs/t2/raven/data/bold/orig/'))"
   ]
  }
 ],
 "metadata": {
  "kernelspec": {
   "display_name": "base",
   "language": "python",
   "name": "python3"
  },
  "language_info": {
   "codemirror_mode": {
    "name": "ipython",
    "version": 3
   },
   "file_extension": ".py",
   "mimetype": "text/x-python",
   "name": "python",
   "nbconvert_exporter": "python",
   "pygments_lexer": "ipython3",
   "version": "3.8.5"
  },
  "orig_nbformat": 4
 },
 "nbformat": 4,
 "nbformat_minor": 2
}
