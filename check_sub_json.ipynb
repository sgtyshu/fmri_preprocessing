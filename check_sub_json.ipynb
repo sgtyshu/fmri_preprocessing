{
 "cells": [
  {
   "cell_type": "code",
   "execution_count": 13,
   "metadata": {},
   "outputs": [],
   "source": [
    "import json\n",
    "import os\n",
    "from os.path import join as pjoin\n",
    "def read_acquisition_time(file_path):\n",
    "    with open(file_path) as file:\n",
    "        data = json.load(file)\n",
    "        acquisition_time = data.get(\"AcquisitionTime\")\n",
    "        if acquisition_time:\n",
    "            print(f\"AcquisitionTime: {acquisition_time}\")\n",
    "        else:\n",
    "            print(\"AcquisitionTime not found\")"
   ]
  },
  {
   "cell_type": "code",
   "execution_count": 14,
   "metadata": {},
   "outputs": [
    {
     "name": "stdout",
     "output_type": "stream",
     "text": [
      "AcquisitionTime: 10:01:49.722500\n",
      "AcquisitionTime: 10:08:0.630000\n",
      "AcquisitionTime: 10:13:50.937500\n",
      "AcquisitionTime: 10:19:47.767500\n",
      "AcquisitionTime: 10:28:26.450000\n",
      "AcquisitionTime: 10:34:8.862500\n",
      "AcquisitionTime: 10:40:3.537500\n",
      "AcquisitionTime: 10:46:8.455000\n",
      "AcquisitionTime: 10:58:59.295000\n"
     ]
    }
   ],
   "source": [
    "# Example usage\n",
    "path_sub16 = '/nfs/t2/raven/data/bold/nifti/sub-16/ses-raven/func/'\n",
    "runs = ['01','02','03','04','05','06','07','08','09']\n",
    "for run in runs:\n",
    "    file_path = pjoin(path_sub16, f'sub-16_ses-raven_task-action_run-{run}_bold.json')\n",
    "    read_acquisition_time(file_path)"
   ]
  },
  {
   "cell_type": "code",
   "execution_count": 15,
   "metadata": {},
   "outputs": [
    {
     "name": "stdout",
     "output_type": "stream",
     "text": [
      "AcquisitionTime: 11:10:15.637500\n",
      "AcquisitionTime: 11:16:45.235000\n",
      "AcquisitionTime: 11:22:36.952500\n",
      "AcquisitionTime: 11:28:30.082500\n",
      "AcquisitionTime: 11:46:12.362500\n",
      "AcquisitionTime: 11:51:59.002500\n",
      "AcquisitionTime: 11:58:3.855000\n",
      "AcquisitionTime: 12:03:47.960000\n"
     ]
    }
   ],
   "source": [
    "runs = ['01','02','03','04','05','06','07','08']\n",
    "path_sub17 = '/nfs/t2/raven/data/bold/nifti/sub-17/ses-raven/func/'\n",
    "for run in runs:\n",
    "    file_path = pjoin(path_sub17, f'sub-17_ses-raven_task-action_run-{run}_bold.json')\n",
    "    read_acquisition_time(file_path)"
   ]
  },
  {
   "cell_type": "code",
   "execution_count": 16,
   "metadata": {},
   "outputs": [
    {
     "name": "stdout",
     "output_type": "stream",
     "text": [
      "AcquisitionTime: 09:00:50.537500\n",
      "AcquisitionTime: 09:06:33.952500\n",
      "AcquisitionTime: 09:12:26.777500\n",
      "AcquisitionTime: 09:18:11.037500\n",
      "AcquisitionTime: 09:26:27.082500\n",
      "AcquisitionTime: 09:32:9.925000\n",
      "AcquisitionTime: 09:38:14.530000\n",
      "AcquisitionTime: 09:44:8.027500\n"
     ]
    }
   ],
   "source": [
    "runs = ['01','02','03','04','05','06','07','08']\n",
    "path_sub15 = '/nfs/t2/raven/data/bold/nifti/sub-15/ses-raven/func/'\n",
    "for run in runs:\n",
    "    file_path = pjoin(path_sub15, f'sub-15_ses-raven_task-action_run-{run}_bold.json')\n",
    "    read_acquisition_time(file_path)"
   ]
  },
  {
   "cell_type": "code",
   "execution_count": 23,
   "metadata": {},
   "outputs": [
    {
     "name": "stdout",
     "output_type": "stream",
     "text": [
      "2023-04-13T09:00:50.537500\n",
      "2023-04-13T09:06:33.952500\n",
      "2023-04-13T09:12:26.777500\n",
      "2023-04-13T09:18:11.037500\n",
      "2023-04-13T09:23:34.027500\n",
      "2023-04-13T09:23:34.027500\n",
      "2023-04-13T09:23:34.750000\n",
      "2023-04-13T09:26:27.082500\n",
      "2023-04-13T09:32:09.925000\n",
      "2023-04-13T09:38:14.530000\n",
      "2023-04-13T09:44:08.027500\n",
      "2023-04-13T09:49:24.890000\n",
      "------------------\n",
      "2023-04-13T10:01:49.722500\n",
      "2023-04-13T10:08:00.630000\n",
      "2023-04-13T10:13:50.937500\n",
      "2023-04-13T10:19:47.767500\n",
      "2023-04-13T10:25:18.970000\n",
      "2023-04-13T10:25:18.970000\n",
      "2023-04-13T10:25:19.692500\n",
      "2023-04-13T10:28:26.450000\n",
      "2023-04-13T10:34:08.862500\n",
      "2023-04-13T10:40:03.537500\n",
      "2023-04-13T10:46:08.455000\n",
      "2023-04-13T10:52:27.385000\n",
      "2023-04-13T10:58:59.295000\n",
      "------------------\n",
      "2023-04-13T11:10:15.637500\n",
      "2023-04-13T11:16:45.235000\n",
      "2023-04-13T11:22:36.952500\n",
      "2023-04-13T11:28:30.082500\n",
      "2023-04-13T11:43:15.112500\n",
      "2023-04-13T11:43:15.112500\n",
      "2023-04-13T11:43:15.835000\n",
      "2023-04-13T11:46:12.362500\n",
      "2023-04-13T11:51:59.002500\n",
      "2023-04-13T11:58:03.855000\n",
      "2023-04-13T12:03:47.960000\n",
      "2023-04-13T12:09:16.177500\n",
      "------------------\n"
     ]
    }
   ],
   "source": [
    "import csv\n",
    "\n",
    "def read_tsv_file(file_path):\n",
    "    with open(file_path, 'r') as file:\n",
    "        reader = csv.DictReader(file, delimiter='\\t')\n",
    "        for row in reader:\n",
    "            acq_time = row.get('acq_time')\n",
    "            if acq_time:\n",
    "                print(acq_time)\n",
    "\n",
    "file_path = \"/nfs/t2/raven/data/bold/nifti/sub-15/ses-raven/sub-15_ses-raven_scans.tsv\"\n",
    "read_tsv_file(file_path)\n",
    "print ('------------------')\n",
    "file_path = \"/nfs/t2/raven/data/bold/nifti/sub-16/ses-raven/sub-16_ses-raven_scans.tsv\"\n",
    "read_tsv_file(file_path)\n",
    "print ('------------------')\n",
    "file_path = \"/nfs/t2/raven/data/bold/nifti/sub-17/ses-raven/sub-17_ses-raven_scans.tsv\"\n",
    "read_tsv_file(file_path)\n",
    "print ('------------------')\n"
   ]
  },
  {
   "cell_type": "code",
   "execution_count": 18,
   "metadata": {},
   "outputs": [
    {
     "name": "stdout",
     "output_type": "stream",
     "text": [
      "2023-04-13T10:01:49.722500\n",
      "2023-04-13T10:08:00.630000\n",
      "2023-04-13T10:13:50.937500\n",
      "2023-04-13T10:19:47.767500\n",
      "2023-04-13T10:25:18.970000\n",
      "2023-04-13T10:25:18.970000\n",
      "2023-04-13T10:25:19.692500\n",
      "2023-04-13T10:28:26.450000\n",
      "2023-04-13T10:34:08.862500\n",
      "2023-04-13T10:40:03.537500\n",
      "2023-04-13T10:46:08.455000\n",
      "2023-04-13T10:52:27.385000\n",
      "2023-04-13T10:58:59.295000\n"
     ]
    }
   ],
   "source": []
  },
  {
   "cell_type": "code",
   "execution_count": 21,
   "metadata": {},
   "outputs": [
    {
     "name": "stdout",
     "output_type": "stream",
     "text": [
      "2023-04-12T14:28:10.162500\n",
      "2023-04-12T14:34:08.812500\n",
      "2023-04-12T14:40:12.502500\n",
      "2023-04-12T14:46:06.197500\n",
      "2023-04-12T14:51:33.320000\n",
      "2023-04-12T14:51:33.320000\n",
      "2023-04-12T14:51:34.042500\n",
      "2023-04-12T14:54:28.540000\n",
      "2023-04-12T15:00:39.262500\n",
      "2023-04-12T15:06:52.440000\n",
      "2023-04-12T15:13:10.115000\n"
     ]
    }
   ],
   "source": [
    "file_path = \"/nfs/t2/raven/data/bold/nifti/sub-12/ses-raven/sub-12_ses-raven_scans.tsv\"\n",
    "read_tsv_file(file_path)"
   ]
  },
  {
   "cell_type": "code",
   "execution_count": null,
   "metadata": {},
   "outputs": [],
   "source": []
  }
 ],
 "metadata": {
  "kernelspec": {
   "display_name": "base",
   "language": "python",
   "name": "python3"
  },
  "language_info": {
   "codemirror_mode": {
    "name": "ipython",
    "version": 3
   },
   "file_extension": ".py",
   "mimetype": "text/x-python",
   "name": "python",
   "nbconvert_exporter": "python",
   "pygments_lexer": "ipython3",
   "version": "3.8.5"
  },
  "orig_nbformat": 4
 },
 "nbformat": 4,
 "nbformat_minor": 2
}
